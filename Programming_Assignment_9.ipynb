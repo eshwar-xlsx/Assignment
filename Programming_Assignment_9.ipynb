{
  "cells": [
    {
      "cell_type": "raw",
      "id": "6defde86-dc29-4022-8e27-8dfeb0f40aec",
      "metadata": {
        "id": "6defde86-dc29-4022-8e27-8dfeb0f40aec"
      },
      "source": [
        "#1. Write a Python program to check if the given number is a Disarium Number?"
      ]
    },
    {
      "cell_type": "code",
      "execution_count": null,
      "id": "ad9717f3-c339-421d-bf22-525023dddf95",
      "metadata": {
        "id": "ad9717f3-c339-421d-bf22-525023dddf95",
        "outputId": "a5ca87d0-ddb0-4f46-e415-1c0e99ba6992"
      },
      "outputs": [
        {
          "name": "stdin",
          "output_type": "stream",
          "text": [
            "enter a no  ad\n"
          ]
        },
        {
          "name": "stdout",
          "output_type": "stream",
          "text": [
            "invalid input\n"
          ]
        }
      ],
      "source": [
        "try:\n",
        "    num=int(input(\"enter a no \"))\n",
        "    Sum=0\n",
        "\n",
        "    st=str(num)\n",
        "    for i in range(len(st)):\n",
        "        Sum+=int(st[i])**(i+1)\n",
        "\n",
        "    if Sum==num:\n",
        "\n",
        "        print(\"num is disarium\")\n",
        "    else :\n",
        "        print(\"num is not disarium \",Sum,num,st[i])\n",
        "except:\n",
        "    print(\"invalid input\")"
      ]
    },
    {
      "cell_type": "raw",
      "id": "c6b5544f-0d6d-46a1-abcc-8aa02ff15ea3",
      "metadata": {
        "id": "c6b5544f-0d6d-46a1-abcc-8aa02ff15ea3"
      },
      "source": [
        "#2. Write a Python program to print all disarium numbers between 1 to 100?"
      ]
    },
    {
      "cell_type": "code",
      "execution_count": null,
      "id": "1f72abbb-8369-4d7c-82e9-580db47a0983",
      "metadata": {
        "id": "1f72abbb-8369-4d7c-82e9-580db47a0983",
        "outputId": "988fb4af-3c63-4fc3-b95e-962e914a5be8"
      },
      "outputs": [
        {
          "name": "stdout",
          "output_type": "stream",
          "text": [
            "1\n",
            "2\n",
            "3\n",
            "4\n",
            "5\n",
            "6\n",
            "7\n",
            "8\n",
            "9\n",
            "89\n"
          ]
        }
      ],
      "source": [
        "def disarium(num):\n",
        "\n",
        "    \n",
        "    try:\n",
        "        Sum=0\n",
        "        st=str(num)\n",
        "        for i in range(len(st)):\n",
        "            Sum+=int(st[i])**(i+1)\n",
        "\n",
        "        if Sum==num:\n",
        "            return \"num is disarium\"\n",
        "        else :\n",
        "            return \"num is not disarium \",Sum,num,st[i]\n",
        "    except:\n",
        "        print(\"invalid input\")\n",
        "for dis in range(1,100):\n",
        "    if disarium(dis)==\"num is disarium\":\n",
        "        print(dis)\n",
        "        "
      ]
    },
    {
      "cell_type": "raw",
      "id": "f928c9ed-8193-472a-883a-05a5f591c047",
      "metadata": {
        "id": "f928c9ed-8193-472a-883a-05a5f591c047"
      },
      "source": [
        "#3. Write a Python program to check if the given number is Happy Number?"
      ]
    },
    {
      "cell_type": "code",
      "execution_count": null,
      "id": "22349430-1cea-426a-ae56-53be9c879bef",
      "metadata": {
        "id": "22349430-1cea-426a-ae56-53be9c879bef",
        "colab": {
          "base_uri": "https://localhost:8080/"
        },
        "outputId": "7df76fa2-8f43-48d3-ad4e-667b66cbbec4"
      },
      "outputs": [
        {
          "output_type": "stream",
          "name": "stdout",
          "text": [
            "ENter a num :5\n",
            "5 is not a happy no\n"
          ]
        }
      ],
      "source": [
        "def happynum(num):\n",
        "    sum=rem=0\n",
        "    while(num>0):\n",
        "        rem=num%10\n",
        "        sum+=(rem**2)\n",
        "        num=num//10\n",
        "    return sum\n",
        "num=int(input('ENter a num :'))\n",
        "result=num\n",
        "while (result!=1 and result!=4):\n",
        "    result=happynum(result)\n",
        "if(result==1):\n",
        "    print(str(num),\"is a happy no\")\n",
        "elif(result==4):\n",
        "    print(str(num),\"is not a happy no\")\n",
        "    \n",
        "    "
      ]
    },
    {
      "cell_type": "markdown",
      "source": [
        "#4. Write a Python program to print all happy numbers between 1 and 100?"
      ],
      "metadata": {
        "id": "-SzX8OInu8_M"
      },
      "id": "-SzX8OInu8_M"
    },
    {
      "cell_type": "code",
      "source": [
        "def check_happy_num(my_num):\n",
        "   remaining = sum_val = 0\n",
        "   while(my_num > 0):\n",
        "      remaining = my_num%10\n",
        "      sum_val = sum_val + (remaining*remaining)\n",
        "      my_num = my_num//10\n",
        "   return sum_val\n",
        "print(\"The list of happy numbers between 1 and 100 are : \")\n",
        "for i in range(1, 101):\n",
        "   my_result = i\n",
        "   while(my_result != 1 and my_result != 4):\n",
        "      my_result = check_happy_num(my_result)\n",
        "   if(my_result == 1):\n",
        "      print(i)"
      ],
      "metadata": {
        "colab": {
          "base_uri": "https://localhost:8080/"
        },
        "id": "MrCge950vAPx",
        "outputId": "a843d390-5e67-4bdd-ad99-ab009806ee10"
      },
      "id": "MrCge950vAPx",
      "execution_count": null,
      "outputs": [
        {
          "output_type": "stream",
          "name": "stdout",
          "text": [
            "The list of happy numbers between 1 and 100 are : \n",
            "1\n",
            "7\n",
            "10\n",
            "13\n",
            "19\n",
            "23\n",
            "28\n",
            "31\n",
            "32\n",
            "44\n",
            "49\n",
            "68\n",
            "70\n",
            "79\n",
            "82\n",
            "86\n",
            "91\n",
            "94\n",
            "97\n",
            "100\n"
          ]
        }
      ]
    },
    {
      "cell_type": "raw",
      "id": "c38552a2-9d0c-4a6f-906a-d378aad07987",
      "metadata": {
        "id": "c38552a2-9d0c-4a6f-906a-d378aad07987"
      },
      "source": [
        "#5. Write a Python program to determine whether the given number is a Harshad Number?"
      ]
    },
    {
      "cell_type": "code",
      "execution_count": null,
      "id": "0279e650-e8d5-4a43-9e14-c97dbaf6bf9c",
      "metadata": {
        "id": "0279e650-e8d5-4a43-9e14-c97dbaf6bf9c"
      },
      "outputs": [],
      "source": [
        "def harshad(num):\n",
        "   \n",
        "    try:\n",
        "        Sum=0\n",
        "        b=str(num)\n",
        "        for i in range(len(b)):\n",
        "            Sum+=int(b[i])\n",
        "        if num%Sum==0:\n",
        "            return \"yes ,harshad number \"\n",
        "        else:\n",
        "            return \"not a harshad number\"\n",
        "    except:\n",
        "        return \"invalid input \"\n"
      ]
    },
    {
      "cell_type": "code",
      "execution_count": null,
      "id": "ed4488fd-8264-43d0-b3c6-7c4bf39e269d",
      "metadata": {
        "id": "ed4488fd-8264-43d0-b3c6-7c4bf39e269d",
        "outputId": "5b02891f-635d-409d-99ba-3de962e5cb80"
      },
      "outputs": [
        {
          "data": {
            "text/plain": [
              "'yes ,harshad number '"
            ]
          },
          "execution_count": 36,
          "metadata": {},
          "output_type": "execute_result"
        }
      ],
      "source": [
        "harshad(156)"
      ]
    },
    {
      "cell_type": "raw",
      "id": "94ea94a4-1b2e-4b1d-b6b7-c5b88afd035c",
      "metadata": {
        "id": "94ea94a4-1b2e-4b1d-b6b7-c5b88afd035c"
      },
      "source": [
        "#6. Write a Python program to print all pronic numbers between 1 and 100?"
      ]
    },
    {
      "cell_type": "code",
      "execution_count": null,
      "id": "6ee715d5-1c16-43dc-94cf-3d51503bf97e",
      "metadata": {
        "id": "6ee715d5-1c16-43dc-94cf-3d51503bf97e",
        "outputId": "f5b1585c-3140-493b-d551-eb428b96e291"
      },
      "outputs": [
        {
          "name": "stdout",
          "output_type": "stream",
          "text": [
            "2\n",
            "\n",
            "6\n",
            "\n",
            "12\n",
            "\n",
            "20\n",
            "\n",
            "30\n",
            "\n",
            "42\n",
            "\n",
            "56\n",
            "\n",
            "72\n",
            "\n",
            "90\n",
            "\n"
          ]
        }
      ],
      "source": [
        "def pronic(num):\n",
        " \n",
        "    try:\n",
        "        for i in range(1,num):\n",
        "            if i*(i+1)==num:\n",
        "                return num\n",
        "    except:\n",
        "        return(\"invlid input\")\n",
        "for j in range(1,101):\n",
        "    if (pronic(j)):\n",
        "        print(j)\n",
        "        print(\"\")"
      ]
    },
    {
      "cell_type": "code",
      "execution_count": null,
      "id": "170a0e73-302f-4789-87e4-8be6276b5f04",
      "metadata": {
        "id": "170a0e73-302f-4789-87e4-8be6276b5f04"
      },
      "outputs": [],
      "source": [
        "\n"
      ]
    }
  ],
  "metadata": {
    "kernelspec": {
      "display_name": "Python 3 (ipykernel)",
      "language": "python",
      "name": "python3"
    },
    "language_info": {
      "codemirror_mode": {
        "name": "ipython",
        "version": 3
      },
      "file_extension": ".py",
      "mimetype": "text/x-python",
      "name": "python",
      "nbconvert_exporter": "python",
      "pygments_lexer": "ipython3",
      "version": "3.9.12"
    },
    "colab": {
      "provenance": [],
      "collapsed_sections": []
    }
  },
  "nbformat": 4,
  "nbformat_minor": 5
}