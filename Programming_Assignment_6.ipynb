{
  "nbformat": 4,
  "nbformat_minor": 0,
  "metadata": {
    "colab": {
      "provenance": []
    },
    "kernelspec": {
      "name": "python3",
      "display_name": "Python 3"
    },
    "language_info": {
      "name": "python"
    }
  },
  "cells": [
    {
      "cell_type": "markdown",
      "source": [],
      "metadata": {
        "id": "ZJjP5IpZXtZe"
      }
    },
    {
      "cell_type": "markdown",
      "source": [
        "# 1. Write a Python Program to Display Fibonacci Sequence Using Recursion?"
      ],
      "metadata": {
        "id": "_aFo7lB1XuZm"
      }
    },
    {
      "cell_type": "code",
      "source": [
        "def fibb(n):\n",
        "  if (n == 0) or (n == 1 ):\n",
        "    return n\n",
        "  else:\n",
        "    return(  fibb(n-1) + fibb(n-2)  )\n",
        "\n",
        "n = int(input(\"Enter a number : \"))\n",
        "\n",
        "i = 0\n",
        "while (n > i):\n",
        "  print(i)\n",
        "  i = i+ 1"
      ],
      "metadata": {
        "colab": {
          "base_uri": "https://localhost:8080/"
        },
        "id": "hChMW_39XvGO",
        "outputId": "c4e87582-a378-4c30-925d-35fdc9943f33"
      },
      "execution_count": 6,
      "outputs": [
        {
          "output_type": "stream",
          "name": "stdout",
          "text": [
            "Enter a number : 6\n",
            "0\n",
            "1\n",
            "2\n",
            "3\n",
            "4\n",
            "5\n"
          ]
        }
      ]
    },
    {
      "cell_type": "markdown",
      "source": [
        "# 2. Write a Python Program to Find Factorial of Number Using Recursion?"
      ],
      "metadata": {
        "id": "t-_m9ZbfZFvf"
      }
    },
    {
      "cell_type": "code",
      "source": [
        "def factt(n):\n",
        "  if (n <= 1 ):\n",
        "    return n\n",
        "  else:\n",
        "    return n * factt(n-1)\n",
        "\n",
        "print(factt(5))"
      ],
      "metadata": {
        "colab": {
          "base_uri": "https://localhost:8080/"
        },
        "id": "tfAYTiFDYjs4",
        "outputId": "e538a2e9-08a4-45c6-805c-e4e4e11cd326"
      },
      "execution_count": 14,
      "outputs": [
        {
          "output_type": "stream",
          "name": "stdout",
          "text": [
            "120\n"
          ]
        }
      ]
    },
    {
      "cell_type": "markdown",
      "source": [
        "#3. Write a Python Program to calculate your Body Mass Index?"
      ],
      "metadata": {
        "id": "XJxj-1Z5b82V"
      }
    },
    {
      "cell_type": "code",
      "source": [
        "weight = float(input(\"Enter your weight(in cm ) : \"))\n",
        "height = float(input(\"Enter your height(in foot) : \"))\n",
        "\n",
        "bmi = weight/ height ** 2\n",
        "\n",
        "print(f\"Your bmi index is {bmi}\")"
      ],
      "metadata": {
        "colab": {
          "base_uri": "https://localhost:8080/"
        },
        "id": "rVhgL2sMZZDh",
        "outputId": "82aab397-e466-40df-d7a7-fbb46886f6d1"
      },
      "execution_count": 16,
      "outputs": [
        {
          "output_type": "stream",
          "name": "stdout",
          "text": [
            "Enter your weight(in cm ) : 70\n",
            "Enter your height(in foot) : 5.7\n",
            "Your bmi index is 2.154509079716836\n"
          ]
        }
      ]
    },
    {
      "cell_type": "markdown",
      "source": [
        "#4. Write a Python Program to calculate the natural logarithm of any number?"
      ],
      "metadata": {
        "id": "OBgDBTPSc8VM"
      }
    },
    {
      "cell_type": "code",
      "source": [
        "import math\n",
        "\n",
        "num = int(input(\"Enter number : \"))\n",
        "print(f\"The natural logarithm of {num} is {math.log(num)}\")"
      ],
      "metadata": {
        "colab": {
          "base_uri": "https://localhost:8080/"
        },
        "id": "eGUbgTTxcjsq",
        "outputId": "e8fe1ce9-2b71-4be8-e0b6-4557dc67be13"
      },
      "execution_count": 18,
      "outputs": [
        {
          "output_type": "stream",
          "name": "stdout",
          "text": [
            "Enter number : 2\n",
            "The natural logarithm of 2 is 0.6931471805599453\n"
          ]
        }
      ]
    },
    {
      "cell_type": "markdown",
      "source": [
        "#5. Write a Python Program for cube sum of first n natural numbers?"
      ],
      "metadata": {
        "id": "PKRxLBpcdlJu"
      }
    },
    {
      "cell_type": "code",
      "source": [
        "def cubeSum(n):\n",
        "  sum = 0\n",
        "  for i in range(n+1):\n",
        "    sum += i ** 3\n",
        "  return sum\n",
        "\n",
        "n = int(input(\"Enter natrual number: \"))\n",
        "print(f\"The cube is {cubeSum(n)}\")"
      ],
      "metadata": {
        "colab": {
          "base_uri": "https://localhost:8080/"
        },
        "id": "kN348C45dbar",
        "outputId": "73ec6d6a-1ceb-41fb-8d65-2359bdf5f4eb"
      },
      "execution_count": 23,
      "outputs": [
        {
          "output_type": "stream",
          "name": "stdout",
          "text": [
            "Enter natrual number: 5\n",
            "The cube is 225\n"
          ]
        }
      ]
    },
    {
      "cell_type": "code",
      "source": [],
      "metadata": {
        "id": "2WZYpFR5eVxh"
      },
      "execution_count": null,
      "outputs": []
    }
  ]
}