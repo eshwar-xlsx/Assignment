{
 "cells": [
  {
   "cell_type": "markdown",
   "id": "db0165cb",
   "metadata": {},
   "source": [
    "1. Write a Python program to convert kilometers to miles?"
   ]
  },
  {
   "cell_type": "code",
   "execution_count": 1,
   "id": "cc158292",
   "metadata": {},
   "outputs": [
    {
     "name": "stdout",
     "output_type": "stream",
     "text": [
      "Enter value in kilometers: 13\n",
      "13.00 kilometers is equal to 7.80 miles\n"
     ]
    }
   ],
   "source": [
    "km = float(input(\"Enter value in kilometers: \"))\n",
    "\n",
    "cf = 0.6\n",
    "miles = km * cf\n",
    "print('%0.2f kilometers is equal to %0.2f miles' %(km,miles))"
   ]
  },
  {
   "cell_type": "markdown",
   "id": "5318ca68",
   "metadata": {},
   "source": [
    "2. Write a Python program to convert Celsius to Fahrenheit?"
   ]
  },
  {
   "cell_type": "code",
   "execution_count": 2,
   "id": "ce65fa17",
   "metadata": {},
   "outputs": [
    {
     "name": "stdout",
     "output_type": "stream",
     "text": [
      "Enter the temperature in Celsius : 45.4\n",
      "45.4 degree celsius are 113.72 in degree fahranites\n"
     ]
    }
   ],
   "source": [
    "celsius = float(input(\"Enter the temperature in Celsius : \"))\n",
    "fahr = (celsius * 1.8) + 32\n",
    "print(f\"{celsius} degree celsius are {fahr} in degree fahranites\")"
   ]
  },
  {
   "cell_type": "markdown",
   "id": "b8dca730",
   "metadata": {},
   "source": [
    "3. Write a Python program to display calendar?"
   ]
  },
  {
   "cell_type": "code",
   "execution_count": 3,
   "id": "817a5ba7",
   "metadata": {},
   "outputs": [
    {
     "name": "stdout",
     "output_type": "stream",
     "text": [
      "   September 2022\n",
      "Mo Tu We Th Fr Sa Su\n",
      "          1  2  3  4\n",
      " 5  6  7  8  9 10 11\n",
      "12 13 14 15 16 17 18\n",
      "19 20 21 22 23 24 25\n",
      "26 27 28 29 30\n",
      "\n"
     ]
    }
   ],
   "source": [
    "import calendar\n",
    "\n",
    "year = 2022 \n",
    "month = 9\n",
    "\n",
    "print(calendar.month(year, month))"
   ]
  },
  {
   "cell_type": "markdown",
   "id": "92022e62",
   "metadata": {},
   "source": [
    "4. Write a Python program to solve quadratic equation?"
   ]
  },
  {
   "cell_type": "code",
   "execution_count": 4,
   "id": "21fa88d9",
   "metadata": {},
   "outputs": [
    {
     "name": "stdout",
     "output_type": "stream",
     "text": [
      "Enter a: 7\n",
      "Enter b: 5\n",
      "Enter c: 6\n",
      "The solution are (-0.35714285714285715-0.8541614816500999j) and (-0.35714285714285715+0.8541614816500999j)\n"
     ]
    }
   ],
   "source": [
    "import cmath  #cmath stands for complex maths\n",
    "a = float(input('Enter a: '))  \n",
    "b = float(input('Enter b: '))  \n",
    "c = float(input('Enter c: '))  \n",
    "  \n",
    "# the standard formula is \n",
    "#b ** 2 - 4ac\n",
    "\n",
    "d = (b**2) - (4*a*c)  \n",
    "  \n",
    "\n",
    "sol1 = (-b-cmath.sqrt(d))/(2*a)  \n",
    "sol2 = (-b+cmath.sqrt(d))/(2*a)  \n",
    "print('The solution are {0} and {1}'.format(sol1,sol2))   "
   ]
  },
  {
   "cell_type": "markdown",
   "id": "070289c8",
   "metadata": {},
   "source": [
    "5. Write a Python program to swap two variables without temp variable?"
   ]
  },
  {
   "cell_type": "code",
   "execution_count": 7,
   "id": "da027afa",
   "metadata": {},
   "outputs": [
    {
     "name": "stdout",
     "output_type": "stream",
     "text": [
      "Enter a number :7\n",
      "Enter a another number :5\n",
      "a is:5 b is:7\n"
     ]
    }
   ],
   "source": [
    "a = int(input(\"Enter a number :\"))\n",
    "b = int(input(\"Enter a another number :\"))\n",
    "\n",
    "a=a+b\n",
    "b=a-b\n",
    "a=a-b\n",
    "print(f\"a is:{a} b is:{b}\")"
   ]
  },
  {
   "cell_type": "code",
   "execution_count": null,
   "id": "dc7616b1",
   "metadata": {},
   "outputs": [],
   "source": []
  }
 ],
 "metadata": {
  "kernelspec": {
   "display_name": "Python 3 (ipykernel)",
   "language": "python",
   "name": "python3"
  },
  "language_info": {
   "codemirror_mode": {
    "name": "ipython",
    "version": 3
   },
   "file_extension": ".py",
   "mimetype": "text/x-python",
   "name": "python",
   "nbconvert_exporter": "python",
   "pygments_lexer": "ipython3",
   "version": "3.9.12"
  }
 },
 "nbformat": 4,
 "nbformat_minor": 5
}
