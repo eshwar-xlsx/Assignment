{
  "nbformat": 4,
  "nbformat_minor": 0,
  "metadata": {
    "colab": {
      "provenance": []
    },
    "kernelspec": {
      "name": "python3",
      "display_name": "Python 3"
    },
    "language_info": {
      "name": "python"
    }
  },
  "cells": [
    {
      "cell_type": "markdown",
      "source": [
        "# 1. Write a Python Program to Find LCM?"
      ],
      "metadata": {
        "id": "KZiexSyLIBDM"
      }
    },
    {
      "cell_type": "code",
      "execution_count": 7,
      "metadata": {
        "colab": {
          "base_uri": "https://localhost:8080/"
        },
        "id": "k9FGawPtH8nr",
        "outputId": "dc1373ef-36aa-45f3-9f1e-5cc88b8614d7"
      },
      "outputs": [
        {
          "output_type": "stream",
          "name": "stdout",
          "text": [
            "24\n"
          ]
        }
      ],
      "source": [
        "def calculate_lcm(x, y):  \n",
        "    if x > y:  \n",
        "        greater = x  \n",
        "    else:  \n",
        "        greater = y  \n",
        "    while(True):  \n",
        "        if((greater % x == 0) and (greater % y == 0)):  \n",
        "            lcm = greater  \n",
        "            break  \n",
        "        greater += 1  \n",
        "    return lcm    \n",
        "\n",
        "ans = calculate_lcm(8 , 12)\n",
        "print(ans)"
      ]
    },
    {
      "cell_type": "markdown",
      "source": [
        "# 2. Write a Python Program to Find HCF?"
      ],
      "metadata": {
        "id": "kx2KbsIZIBKL"
      }
    },
    {
      "cell_type": "code",
      "source": [
        "def hcf(x, y):\n",
        "   while(y):\n",
        "       x, y = y, x % y\n",
        "   return x\n",
        "\n",
        "gcd = hcf(10, 25)\n",
        "print(f\"The HCF is {gcd}\")"
      ],
      "metadata": {
        "colab": {
          "base_uri": "https://localhost:8080/"
        },
        "id": "cSugUaLfLGhu",
        "outputId": "93ed3afa-4e2c-45fb-84f1-3deb4cf31c84"
      },
      "execution_count": 10,
      "outputs": [
        {
          "output_type": "stream",
          "name": "stdout",
          "text": [
            "The HCF is 5\n"
          ]
        }
      ]
    },
    {
      "cell_type": "markdown",
      "source": [
        "# 3. Write a Python Program to Convert Decimal to Binary, Octal and Hexadecimal?"
      ],
      "metadata": {
        "id": "1IYbU8cJLaXq"
      }
    },
    {
      "cell_type": "code",
      "source": [
        "n = int(input(\"Enter a number :  \"))\n",
        "print(f\"The decimal form of number is {n}\")\n",
        "print(f\"The binary form of number is {bin(n)}\")\n",
        "print(f\"The octal form of number is {oct(n)}\")\n",
        "print(f\"The hexadecimal form of number is {hex(n)}\")"
      ],
      "metadata": {
        "colab": {
          "base_uri": "https://localhost:8080/"
        },
        "id": "8Yuj9fehLQ4K",
        "outputId": "c724d131-cdbb-4e32-8e6f-ae6dd1797afb"
      },
      "execution_count": 12,
      "outputs": [
        {
          "output_type": "stream",
          "name": "stdout",
          "text": [
            "Enter a number :  5\n",
            "The decimal form of number is 5\n",
            "The binary form of number is 0b101\n",
            "The octal form of number is 0o5\n",
            "The hexadecimal form of number is 0x5\n"
          ]
        }
      ]
    },
    {
      "cell_type": "markdown",
      "source": [
        "#4. Write a Python Program To Find ASCII value of a character?"
      ],
      "metadata": {
        "id": "ZG1qmbtUMSxh"
      }
    },
    {
      "cell_type": "code",
      "source": [
        "str = input(\"Enter a character : \")\n",
        "print (f\"The Ascii value is {ord(str)}\")"
      ],
      "metadata": {
        "colab": {
          "base_uri": "https://localhost:8080/"
        },
        "id": "pZwYkRbFL2lH",
        "outputId": "37c6e738-b4f8-419f-9a34-f63adf0cdb83"
      },
      "execution_count": 13,
      "outputs": [
        {
          "output_type": "stream",
          "name": "stdout",
          "text": [
            "Enter a character : a\n",
            "The Ascii value is 97\n"
          ]
        }
      ]
    },
    {
      "cell_type": "markdown",
      "source": [
        "#5. Write a Python Program to Make a Simple Calculator with 4 basic mathematical operations?"
      ],
      "metadata": {
        "id": "vKvHyN8fMzU5"
      }
    },
    {
      "cell_type": "code",
      "source": [
        "num1 = int(input(\"Enter a number : \"))\n",
        "num2 = int(input(\"Enter another number : \"))\n",
        "\n",
        "\n",
        "print(f\"The addtiton of two numbers is {num1 + num2 }\")\n",
        "print(f\"The subtraction of two numbers is {num1 - num2 }\")\n",
        "print(f\"The multiplication of two numbers is {num1 * num2 }\")\n",
        "print(f\"The division of two numbers is {num1 / num2 }\")"
      ],
      "metadata": {
        "colab": {
          "base_uri": "https://localhost:8080/"
        },
        "id": "GYmRH3QSMp8H",
        "outputId": "d82411c8-ded5-4f1c-99ef-eae0addc448c"
      },
      "execution_count": 17,
      "outputs": [
        {
          "output_type": "stream",
          "name": "stdout",
          "text": [
            "Enter a number : 7\n",
            "Enter another number : 5\n",
            "The addtiton of two numbers is 12\n",
            "The subtraction of two numbers is 2\n",
            "The multiplication of two numbers is 35\n",
            "The division of two numbers is 1.4\n"
          ]
        }
      ]
    },
    {
      "cell_type": "code",
      "source": [],
      "metadata": {
        "id": "mA0nbP3wNOvg"
      },
      "execution_count": null,
      "outputs": []
    }
  ]
}