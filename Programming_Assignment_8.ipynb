{
  "nbformat": 4,
  "nbformat_minor": 0,
  "metadata": {
    "colab": {
      "provenance": [],
      "collapsed_sections": []
    },
    "kernelspec": {
      "name": "python3",
      "display_name": "Python 3"
    },
    "language_info": {
      "name": "python"
    }
  },
  "cells": [
    {
      "cell_type": "markdown",
      "source": [
        "#1. Write a Python Program to Add Two Matrices?"
      ],
      "metadata": {
        "id": "X2GDhM0JrLBp"
      }
    },
    {
      "cell_type": "code",
      "execution_count": 13,
      "metadata": {
        "colab": {
          "base_uri": "https://localhost:8080/"
        },
        "id": "Ypj8lF76rEAD",
        "outputId": "fef5f3d2-65ab-4840-9c2f-ef2e64811d75"
      },
      "outputs": [
        {
          "output_type": "stream",
          "name": "stdout",
          "text": [
            "[8, 7, 6]\n",
            "[6, 15, 7]\n",
            "[12, 8, 9]\n"
          ]
        }
      ],
      "source": [
        "m1 = [[5,1,1], [1,7,2], [6,3,3]]\n",
        "m2 = [[3,6,5], [5,8,5], [6,5,6]]\n",
        "sum=[ [0,0,0],[0,0,0],[0,0,0] ]\n",
        "\n",
        "\n",
        "for i in range(len(m1)):\n",
        "  for j in range(len(m2)):\n",
        "     sum[i][j] = m1[i][j] + m2[i][j]\n",
        "for k in sum:\n",
        "  print(k)"
      ]
    },
    {
      "cell_type": "markdown",
      "source": [
        "#2. Write a Python Program to Multiply Two Matrices?"
      ],
      "metadata": {
        "id": "oAmee-yGtUSC"
      }
    },
    {
      "cell_type": "code",
      "source": [
        "m1 = [[1,1,1], [2,2,2], [3,3,3]]\n",
        "m2 = [[4,6,4], [5,6,5], [6,5,6]]\n",
        "\n",
        "result = [[0,0,0],[0,0,0],[0,0,0]]\n",
        "\n",
        "for i in range(len(m1)):\n",
        "  for j in range(len(m2)):\n",
        "    result[i][j] = m1[i][j] * m2[i][j]\n",
        "\n",
        "for k in sum:\n",
        "  print(k)\n"
      ],
      "metadata": {
        "colab": {
          "base_uri": "https://localhost:8080/"
        },
        "id": "_hAweUMAsvu4",
        "outputId": "cbe3e027-914c-4d55-811b-756b513bce79"
      },
      "execution_count": 14,
      "outputs": [
        {
          "output_type": "stream",
          "name": "stdout",
          "text": [
            "[8, 7, 6]\n",
            "[6, 15, 7]\n",
            "[12, 8, 9]\n"
          ]
        }
      ]
    },
    {
      "cell_type": "markdown",
      "source": [
        "#3. Write a Python Program to Transpose a Matrix?"
      ],
      "metadata": {
        "id": "gJMTIayIuEx3"
      }
    },
    {
      "cell_type": "code",
      "source": [
        "x = [[1,2],[3,4],[5,6]]\n",
        "result = map(list, zip(*x))\n",
        "for r in result:\n",
        "   print(r)"
      ],
      "metadata": {
        "colab": {
          "base_uri": "https://localhost:8080/"
        },
        "id": "grkVdECzr-WL",
        "outputId": "fea68e98-05c9-4d71-990b-efab8dd07a46"
      },
      "execution_count": 20,
      "outputs": [
        {
          "output_type": "stream",
          "name": "stdout",
          "text": [
            "[1, 3, 5]\n",
            "[2, 4, 6]\n"
          ]
        }
      ]
    },
    {
      "cell_type": "code",
      "source": [],
      "metadata": {
        "id": "fl6AjhNAuilS"
      },
      "execution_count": null,
      "outputs": []
    },
    {
      "cell_type": "markdown",
      "source": [
        "#4. Write a Python Program to Sort Words in Alphabetic Order?"
      ],
      "metadata": {
        "id": "MQrIgEIpuynv"
      }
    },
    {
      "cell_type": "code",
      "source": [
        "str = input(\"Enter a string: \")\n",
        " \n",
        "\n",
        "words = str.split()\n",
        " \n",
        "words.sort()\n",
        "for word in words:\n",
        "   print(word)"
      ],
      "metadata": {
        "colab": {
          "base_uri": "https://localhost:8080/"
        },
        "id": "WyLfMoxRu1wf",
        "outputId": "3875cf69-29fd-44df-efbe-5d03cd00f231"
      },
      "execution_count": 24,
      "outputs": [
        {
          "output_type": "stream",
          "name": "stdout",
          "text": [
            "Enter a string: this is new string\n",
            "is\n",
            "new\n",
            "string\n",
            "this\n"
          ]
        }
      ]
    },
    {
      "cell_type": "markdown",
      "source": [
        "#5. Write a Python Program to Remove Punctuation From a String?"
      ],
      "metadata": {
        "id": "yO-FYTiNvUtf"
      }
    },
    {
      "cell_type": "code",
      "source": [
        "import string\n",
        "\n",
        "test_str = input(\"Enter the string with punctuation : \")\n",
        "\n",
        "test_str = test_str.translate (str.maketrans('', '', string.punctuation))\n",
        "print(test_str)\n"
      ],
      "metadata": {
        "colab": {
          "base_uri": "https://localhost:8080/"
        },
        "id": "cJZEaRfPu_6W",
        "outputId": "8fefebd4-42fe-4731-fa7d-2606c66ae34f"
      },
      "execution_count": 28,
      "outputs": [
        {
          "output_type": "stream",
          "name": "stdout",
          "text": [
            "Enter the string with punctuation : This is the code, to remove punctuation!\n",
            "This is the code to remove punctuation\n"
          ]
        }
      ]
    },
    {
      "cell_type": "code",
      "source": [],
      "metadata": {
        "id": "FhEGnDPJwFcW"
      },
      "execution_count": null,
      "outputs": []
    }
  ]
}