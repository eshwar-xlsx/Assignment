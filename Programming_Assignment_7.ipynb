{
  "nbformat": 4,
  "nbformat_minor": 0,
  "metadata": {
    "colab": {
      "provenance": []
    },
    "kernelspec": {
      "name": "python3",
      "display_name": "Python 3"
    },
    "language_info": {
      "name": "python"
    }
  },
  "cells": [
    {
      "cell_type": "markdown",
      "source": [
        "#1. Write a Python Program to find sum of array?"
      ],
      "metadata": {
        "id": "qbnUqHp5fL_V"
      }
    },
    {
      "cell_type": "code",
      "execution_count": 4,
      "metadata": {
        "colab": {
          "base_uri": "https://localhost:8080/"
        },
        "id": "MSjuDI7qfDvA",
        "outputId": "edef3e86-c021-4c48-d075-20e2f2af97fd"
      },
      "outputs": [
        {
          "output_type": "stream",
          "name": "stdout",
          "text": [
            "The sum of array is : 94\n"
          ]
        }
      ],
      "source": [
        "arr = [1 , 2, 3, 4, 5 , 66 , 7 ,6 ]\n",
        "ans = sum(arr)\n",
        "\n",
        "print(f\"The sum of array is : {ans}\")"
      ]
    },
    {
      "cell_type": "markdown",
      "source": [
        "#2. Write a Python Program to find largest element in an array?"
      ],
      "metadata": {
        "id": "NLevQ7TefzFm"
      }
    },
    {
      "cell_type": "code",
      "source": [
        "arr = [1 , 2, 3, 4, 5 , 66 , 7 ,6 , 99 ]\n",
        "ans = max(arr)\n",
        "print(f\"The maximum number in array is : {ans}\")"
      ],
      "metadata": {
        "colab": {
          "base_uri": "https://localhost:8080/"
        },
        "id": "Om1hTGIZfWGd",
        "outputId": "7359ce1e-0fb1-49e1-899d-63fb18a18be7"
      },
      "execution_count": 6,
      "outputs": [
        {
          "output_type": "stream",
          "name": "stdout",
          "text": [
            "The maximum number in array is : 99\n"
          ]
        }
      ]
    },
    {
      "cell_type": "markdown",
      "source": [
        "#3. Write a Python Program for array rotation?"
      ],
      "metadata": {
        "id": "NcnNxRaCgFY7"
      }
    },
    {
      "cell_type": "code",
      "source": [
        "def rotateArray(x , y):\n",
        "    n=len(x)\n",
        "    x[:]=x[y:n]+x[0:y]\n",
        "    return x\n",
        "\n",
        "arr = [1, 2, 3, 4, 5, 6]\n",
        "\n",
        "new = rotateArray(arr,2)\n",
        "\n",
        "print(f\"New array is {new}\")\n"
      ],
      "metadata": {
        "colab": {
          "base_uri": "https://localhost:8080/"
        },
        "id": "69J3rJL2f5Ve",
        "outputId": "1b25ac42-db48-41ce-b261-1118ba71e88c"
      },
      "execution_count": 7,
      "outputs": [
        {
          "output_type": "stream",
          "name": "stdout",
          "text": [
            "New array is [3, 4, 5, 6, 1, 2]\n"
          ]
        }
      ]
    },
    {
      "cell_type": "markdown",
      "source": [
        "#4. Write a Python Program to Split the array and add the first part to the end?"
      ],
      "metadata": {
        "id": "RexhLvBuhxnz"
      }
    },
    {
      "cell_type": "code",
      "source": [
        "def splitting(arr ,k):\n",
        "  arr = arr[k:] + arr[:k]\n",
        "  return arr\n",
        "\n",
        "\n",
        "k = 4\n",
        "arr = [1 , 2, 3, 4, 5 , 66 , 7 ,6 ]\n",
        "print(splitting(arr, 4))"
      ],
      "metadata": {
        "colab": {
          "base_uri": "https://localhost:8080/"
        },
        "id": "t9kkTkSrhwo4",
        "outputId": "b5b714ad-2b1d-4c99-b271-baa398889183"
      },
      "execution_count": 11,
      "outputs": [
        {
          "output_type": "stream",
          "name": "stdout",
          "text": [
            "[5, 66, 7, 6, 1, 2, 3, 4]\n"
          ]
        }
      ]
    },
    {
      "cell_type": "markdown",
      "source": [
        "#5. Write a Python Program to check if given array is Monotonic?"
      ],
      "metadata": {
        "id": "xsAyvgCSioR7"
      }
    },
    {
      "cell_type": "code",
      "source": [
        "#monotonic meaning either array is either arrays is in increasing or decreasing order\n",
        "\n",
        "\n",
        "def checkMono(arr):\n",
        "   return (all(arr[i] <= arr[i + 1] for i in range(len(arr) - 1)) or\n",
        "      all(arr[i] >= arr[i + 1] for i in range(len(arr) - 1)))\n",
        "\n",
        "arr = [100 ,101,102,103,104]\n",
        "print(checkMono(arr))"
      ],
      "metadata": {
        "colab": {
          "base_uri": "https://localhost:8080/"
        },
        "id": "wi7QWYd0jTEs",
        "outputId": "ef7d3370-1fee-41ec-832d-d5433707cd89"
      },
      "execution_count": 17,
      "outputs": [
        {
          "output_type": "stream",
          "name": "stdout",
          "text": [
            "True\n"
          ]
        }
      ]
    },
    {
      "cell_type": "code",
      "source": [
        "\n",
        "\n",
        "def checkMono(arr):\n",
        "   return (all(arr[i] <= arr[i + 1] for i in range(len(arr) - 1)) or\n",
        "      all(arr[i] >= arr[i + 1] for i in range(len(arr) - 1)))\n",
        "\n",
        "arr = [199,98,97, 100]\n",
        "print(checkMono(arr))\n"
      ],
      "metadata": {
        "colab": {
          "base_uri": "https://localhost:8080/"
        },
        "id": "0SpdJroTiUoM",
        "outputId": "0d6ff122-d063-4d9c-a341-97e7752695ef"
      },
      "execution_count": 18,
      "outputs": [
        {
          "output_type": "stream",
          "name": "stdout",
          "text": [
            "False\n"
          ]
        }
      ]
    },
    {
      "cell_type": "code",
      "source": [],
      "metadata": {
        "id": "KrnBwcsKkABM"
      },
      "execution_count": null,
      "outputs": []
    }
  ]
}