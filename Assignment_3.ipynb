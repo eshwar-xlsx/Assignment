{
  "nbformat": 4,
  "nbformat_minor": 0,
  "metadata": {
    "colab": {
      "provenance": [],
      "collapsed_sections": []
    },
    "kernelspec": {
      "name": "python3",
      "display_name": "Python 3"
    },
    "language_info": {
      "name": "python"
    }
  },
  "cells": [
    {
      "cell_type": "markdown",
      "source": [
        "#. Why are functions advantageous to have in your programs?"
      ],
      "metadata": {
        "id": "5PqWq-zYV57X"
      }
    },
    {
      "cell_type": "markdown",
      "source": [
        "With the use of function, we can achieve the code resuabilityi , meaning we can use the the certain part of code again and again , without actually typing or copying it. Do achieve this we have to put our code in the particular block which is termed as 'function'. The use of function also helps in reducing time and space required to excute a program.\n"
      ],
      "metadata": {
        "id": "SYXiTuRYWF87"
      }
    },
    {
      "cell_type": "markdown",
      "source": [
        "#2. When does the code in a function run: when it&#39;s specified or when its called?"
      ],
      "metadata": {
        "id": "wR9mAKvCWF_T"
      }
    },
    {
      "cell_type": "markdown",
      "source": [
        "To declare the function the common syntax used is :\n",
        "\n",
        "def function_name():\n",
        "  // Body with proper indentation\n",
        "\n",
        "The keyword def is necessary to use before the function name. Paranthesis () are used to pass the parameteres if required any.\n",
        "To call the function we can use\n",
        "\n",
        "function_name()\n",
        "\n",
        "This can all the funciton, or the block of code single time. If we want to perform the operation many times we can call our function more than once.\n",
        "\n"
      ],
      "metadata": {
        "id": "evKyGwLaWGCq"
      }
    },
    {
      "cell_type": "markdown",
      "source": [
        "#3. What statement creates a function?"
      ],
      "metadata": {
        "id": "pGh98R1KWGFS"
      }
    },
    {
      "cell_type": "markdown",
      "source": [
        "The keyword 'def' is used before specifing the function name.We also have to use the semi-colon after the use of paranthesis. The general syntax to declare the function is \n",
        "\n",
        "def function_name(): \n",
        "// Body with proper indentation\n",
        "\n"
      ],
      "metadata": {
        "id": "jPsX-l1rWGIs"
      }
    },
    {
      "cell_type": "markdown",
      "source": [
        "#4. What is the difference between a function and a function call?"
      ],
      "metadata": {
        "id": "CHlFHJlIWGLY"
      }
    },
    {
      "cell_type": "markdown",
      "source": [
        "The function is the block of code which is intended or used for a particualar task, there can be fucntion for artimantic opetations like addtion , sub etc.\n",
        "\n",
        "The fucntion call is method in which we call the function in our main code, which performs the task specified in the upper block i.e fucntion\n",
        "\n",
        "for example:\n",
        "def add(a , b): #this is fucntion declaring\n",
        "  return a + b\n",
        "\n",
        "ans = add(4,5) #this is function calling \n",
        "print(ans)\n",
        "\n",
        "Output : 9"
      ],
      "metadata": {
        "id": "JEl7b2LhWGOG"
      }
    },
    {
      "cell_type": "markdown",
      "source": [
        "#5. How many global scopes are there in a Python program? How many local scopes?"
      ],
      "metadata": {
        "id": "Y0zZ6ccqZSxh"
      }
    },
    {
      "cell_type": "markdown",
      "source": [
        "In python we have one global scope for each program and local scope gets created as we create local variables."
      ],
      "metadata": {
        "id": "KTSu2nYaZSui"
      }
    },
    {
      "cell_type": "markdown",
      "source": [
        "#6. What happens to variables in a local scope when the function call returns?"
      ],
      "metadata": {
        "id": "zHfU3PEVZSrv"
      }
    },
    {
      "cell_type": "markdown",
      "source": [
        "When variables having local scope are called , then they are destroyed. They will only exists while the function is executing."
      ],
      "metadata": {
        "id": "cHW8Mv0TZSli"
      }
    },
    {
      "cell_type": "markdown",
      "source": [
        "#7. What is the concept of a return value? Is it possible to have a return value in an expression?"
      ],
      "metadata": {
        "id": "16pt4Z-qZSjR"
      }
    },
    {
      "cell_type": "markdown",
      "source": [
        " Returning a value means returning output of that small functionality. The keyword we use is \"return\"."
      ],
      "metadata": {
        "id": "NbLgkU6CZSg2"
      }
    },
    {
      "cell_type": "markdown",
      "source": [
        "#8. If a function does not have a return statement, what is the return value of a call to that function?"
      ],
      "metadata": {
        "id": "HNP9EjtVbEt0"
      }
    },
    {
      "cell_type": "markdown",
      "source": [
        " A function without a return statement will return a default value.The function always returns None if explicit return is not written. Its good practice to explicitly write the return statement.\n",
        " "
      ],
      "metadata": {
        "id": "ydazv2EgbErw"
      }
    },
    {
      "cell_type": "markdown",
      "source": [
        "#9. How do you make a function variable refer to the global variable?"
      ],
      "metadata": {
        "id": "vl-fkaiUbEpk"
      }
    },
    {
      "cell_type": "markdown",
      "source": [
        "To use our variable at a global scope we just have to prefix keyword 'global' before declaring the keywod global. The syntax used is ⁉\n",
        "\n",
        "def myFunc():\n",
        "  global a\n",
        "  a = \"Hello World\"\n",
        "   ##### This variable can be accessed from anywhere from the program.\n"
      ],
      "metadata": {
        "id": "P9M21M58bEmm"
      }
    },
    {
      "cell_type": "markdown",
      "source": [
        "#10. What is the data type of None?"
      ],
      "metadata": {
        "id": "2MCE66QebEjr"
      }
    },
    {
      "cell_type": "markdown",
      "source": [
        "The data type for None is 'NoneType'\n",
        "Example:\n",
        "a = None\n",
        "print(type(a))\n",
        "\n",
        "Output : <class 'NoneType'>"
      ],
      "metadata": {
        "id": "KrosjrUwbEgf"
      }
    },
    {
      "cell_type": "markdown",
      "source": [
        "#11. What does the sentence import areallyourpetsnamederic do?"
      ],
      "metadata": {
        "id": "vo7kKK5MbEXh"
      }
    },
    {
      "cell_type": "markdown",
      "source": [
        "It imports a module nameed areallyourpetsnamederic\n"
      ],
      "metadata": {
        "id": "eFS8JeBodMN-"
      }
    },
    {
      "cell_type": "markdown",
      "source": [
        "#12. If you had a bacon() feature in a spam module, what would you call it after importing spam?"
      ],
      "metadata": {
        "id": "KVok_6Gjejah"
      }
    },
    {
      "cell_type": "markdown",
      "source": [
        "To call we should use : spam.bacon()"
      ],
      "metadata": {
        "id": "aPaiwkJXejYb"
      }
    },
    {
      "cell_type": "markdown",
      "source": [
        "#13. What can you do to save a programme from crashing if it encounters an error?"
      ],
      "metadata": {
        "id": "WdEhdurSejWL"
      }
    },
    {
      "cell_type": "markdown",
      "source": [
        "To avoid crashing we can use a concept called Exception Handling."
      ],
      "metadata": {
        "id": "pRXxLtIbejTA"
      }
    },
    {
      "cell_type": "markdown",
      "source": [
        "#14. What is the purpose of the try clause? What is the purpose of the except clause?"
      ],
      "metadata": {
        "id": "KcjQAhS4ejPz"
      }
    },
    {
      "cell_type": "markdown",
      "source": [
        "Try Clause:\n",
        "The try clause to try a particular lines of code or it allows to test few lines of code, the keyword used is 'try'.\n",
        "\n",
        "Except Clause:\n",
        "The except clause will try to handle the error. The keyword used is 'except'."
      ],
      "metadata": {
        "id": "WaBV7DeFejKg"
      }
    },
    {
      "cell_type": "code",
      "source": [],
      "metadata": {
        "id": "dnJIq48Tc_TN"
      },
      "execution_count": null,
      "outputs": []
    }
  ]
}