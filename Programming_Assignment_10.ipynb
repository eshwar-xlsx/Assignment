{
  "nbformat": 4,
  "nbformat_minor": 0,
  "metadata": {
    "colab": {
      "provenance": [],
      "collapsed_sections": []
    },
    "kernelspec": {
      "name": "python3",
      "display_name": "Python 3"
    },
    "language_info": {
      "name": "python"
    }
  },
  "cells": [
    {
      "cell_type": "markdown",
      "source": [
        "#1. Write a Python program to find sum of elements in list?"
      ],
      "metadata": {
        "id": "VRUnINTflKNW"
      }
    },
    {
      "cell_type": "code",
      "execution_count": 10,
      "metadata": {
        "colab": {
          "base_uri": "https://localhost:8080/"
        },
        "id": "5s4Pu6YKlHDW",
        "outputId": "9cefab5c-c40b-4826-ebe3-cc74eb1ece8f"
      },
      "outputs": [
        {
          "output_type": "stream",
          "name": "stdout",
          "text": [
            "Total number of elements of list count up : 30\n"
          ]
        }
      ],
      "source": [
        "a = [2,3,5,1,2,3,4,5,3,2]\n",
        "print(f\"Total number of elements of list count up : {sum(a)}\")"
      ]
    },
    {
      "cell_type": "markdown",
      "source": [
        "#2. Write a Python program to Multiply all numbers in the list?"
      ],
      "metadata": {
        "id": "fy8BqRUlmKBi"
      }
    },
    {
      "cell_type": "code",
      "source": [
        "def multiplyList(myList):\n",
        "\ttotal = 1\n",
        "\tfor x in myList:\n",
        "\t\ttotal = total * x\n",
        "\treturn total\n",
        "\n",
        "\n",
        "list1 = [1, 2, 3]\n",
        "print(multiplyList(list1))"
      ],
      "metadata": {
        "colab": {
          "base_uri": "https://localhost:8080/"
        },
        "id": "zoeTfcJDlUKq",
        "outputId": "bedbfed0-86b8-4a18-acbb-f942330fc73d"
      },
      "execution_count": 30,
      "outputs": [
        {
          "output_type": "stream",
          "name": "stdout",
          "text": [
            "6\n"
          ]
        }
      ]
    },
    {
      "cell_type": "markdown",
      "source": [
        "#3. Write a Python program to find smallest number in a list?"
      ],
      "metadata": {
        "id": "KrbqqxokoBHJ"
      }
    },
    {
      "cell_type": "code",
      "source": [
        "def smallNumList(list1):\n",
        "  min = list1[0]\n",
        "  for x in list1:\n",
        "    if x < min:\n",
        "      min = x\n",
        "    return min\n",
        "\n",
        "list2 = [1,2,3,4,5,5.5,2]\n",
        "print(smallNumList(list1))"
      ],
      "metadata": {
        "colab": {
          "base_uri": "https://localhost:8080/"
        },
        "id": "p2Oks70qmYxJ",
        "outputId": "f34119ea-0e51-4d4d-9037-286c16120429"
      },
      "execution_count": 44,
      "outputs": [
        {
          "output_type": "stream",
          "name": "stdout",
          "text": [
            "1\n"
          ]
        }
      ]
    },
    {
      "cell_type": "markdown",
      "source": [
        "#4. Write a Python program to find largest number in a list?"
      ],
      "metadata": {
        "id": "c4zvEVrFpPo6"
      }
    },
    {
      "cell_type": "code",
      "source": [
        "def myMax(list1):\n",
        "\tmax = list1[0]\n",
        "\tfor x in list1:\n",
        "\t\tif x > max:\n",
        "\t\t\tmax = x\n",
        "\treturn max\n",
        "\n",
        "list2 = [1,2,3,4,5,5.5,2]\n",
        "print(\"Largest element is:\", myMax(list2))\n"
      ],
      "metadata": {
        "colab": {
          "base_uri": "https://localhost:8080/"
        },
        "id": "rCNk8jqppRcp",
        "outputId": "9ae0a7b8-9d7f-44b8-b7e9-4b14942813fc"
      },
      "execution_count": 43,
      "outputs": [
        {
          "output_type": "stream",
          "name": "stdout",
          "text": [
            "Largest element is: 5.5\n"
          ]
        }
      ]
    },
    {
      "cell_type": "markdown",
      "source": [
        "#5. Write a Python program to find second largest number in a list?"
      ],
      "metadata": {
        "id": "wogKjNoypPl7"
      }
    },
    {
      "cell_type": "code",
      "source": [
        "list2 = [1,2,3,4,5,5.5,2]\n",
        "list2.sort()\n",
        "print(\"The second largest number is :   \" ,list2[-2])"
      ],
      "metadata": {
        "colab": {
          "base_uri": "https://localhost:8080/"
        },
        "id": "lLCdP_NVqm-g",
        "outputId": "b6ecb72d-09b0-48a4-9a9f-03b2f3314656"
      },
      "execution_count": 53,
      "outputs": [
        {
          "output_type": "stream",
          "name": "stdout",
          "text": [
            "The second largest number is :    5\n"
          ]
        }
      ]
    },
    {
      "cell_type": "markdown",
      "source": [
        "#6. Write a Python program to find N largest elements from a list?"
      ],
      "metadata": {
        "id": "XZMjMefvpPey"
      }
    },
    {
      "cell_type": "code",
      "source": [
        "\n",
        "l = [1,3,4,2,78,55,24,23,22]\n",
        "n = 2\n",
        "\n",
        "l.sort()\n",
        "print(l[-n:])\n"
      ],
      "metadata": {
        "colab": {
          "base_uri": "https://localhost:8080/"
        },
        "id": "IU9MgIXJoOGG",
        "outputId": "a62692bc-b074-43c8-a789-01133cb0f99c"
      },
      "execution_count": 58,
      "outputs": [
        {
          "output_type": "stream",
          "name": "stdout",
          "text": [
            "[55, 78]\n"
          ]
        }
      ]
    },
    {
      "cell_type": "markdown",
      "source": [
        "#7. Write a Python program to print even numbers in a list?"
      ],
      "metadata": {
        "id": "2LKP3HZLr-Og"
      }
    },
    {
      "cell_type": "code",
      "source": [
        "l = [1,3,4,2,78,55,24,23,22]\n",
        "for num in l:\n",
        "  if num % 2 == 0:\n",
        "    print(num)"
      ],
      "metadata": {
        "colab": {
          "base_uri": "https://localhost:8080/"
        },
        "id": "h6GW2V7DsaIT",
        "outputId": "3659ecce-3af9-42e8-ddb7-964ebe5fdb65"
      },
      "execution_count": 83,
      "outputs": [
        {
          "output_type": "stream",
          "name": "stdout",
          "text": [
            "4\n",
            "2\n",
            "78\n",
            "24\n",
            "22\n"
          ]
        }
      ]
    },
    {
      "cell_type": "markdown",
      "source": [
        "#8. Write a Python program to print odd numbers in a List?"
      ],
      "metadata": {
        "id": "ODbMHOuLuZ-Q"
      }
    },
    {
      "cell_type": "code",
      "source": [
        "l = [1,3,4,2,78,55,24,23,22 , 88 ,22, 44 ,5 ,2 ,1 ,10, 108]\n",
        "for num in l:\n",
        "  if num %2 == 1:\n",
        "    print(num)"
      ],
      "metadata": {
        "colab": {
          "base_uri": "https://localhost:8080/"
        },
        "id": "2fVaORzetEUX",
        "outputId": "ae8799b3-5ae9-43f4-8b87-7571058781b0"
      },
      "execution_count": 84,
      "outputs": [
        {
          "output_type": "stream",
          "name": "stdout",
          "text": [
            "1\n",
            "3\n",
            "55\n",
            "23\n",
            "5\n",
            "1\n"
          ]
        }
      ]
    },
    {
      "cell_type": "markdown",
      "source": [
        "#9. Write a Python program to Remove empty List from List?"
      ],
      "metadata": {
        "id": "FhYO9aAYuw4I"
      }
    },
    {
      "cell_type": "code",
      "source": [
        "list = [[1,2,3,4,] , [] , [\"Hello\"] , [\"WOrld\"] , []]\n",
        "\n",
        "res = [ele for ele in list if ele != []]\n",
        "print(\"After removing  : \" + str(res))\n"
      ],
      "metadata": {
        "colab": {
          "base_uri": "https://localhost:8080/"
        },
        "id": "bVukSFzxuxvG",
        "outputId": "9f694e6d-6363-40cb-b101-1e608a1d975d"
      },
      "execution_count": 92,
      "outputs": [
        {
          "output_type": "stream",
          "name": "stdout",
          "text": [
            "After removing  : [[1, 2, 3, 4], ['Hello'], ['WOrld']]\n"
          ]
        }
      ]
    },
    {
      "cell_type": "markdown",
      "source": [
        "#10. Write a Python program to Cloning or Copying a list?"
      ],
      "metadata": {
        "id": "31MUT4GcvvNG"
      }
    },
    {
      "cell_type": "code",
      "source": [
        "def listCloning(lst):\n",
        "  newList = lst[:]\n",
        "  return(f'New list is {newList}')\n",
        "\n",
        "list1 = [2,3,1,3,2,1,'hello']\n",
        "print(listCloning(list1))"
      ],
      "metadata": {
        "colab": {
          "base_uri": "https://localhost:8080/"
        },
        "id": "bolYTwsIvK1a",
        "outputId": "52afe404-eaf9-4379-a216-40a06e443024"
      },
      "execution_count": 95,
      "outputs": [
        {
          "output_type": "stream",
          "name": "stdout",
          "text": [
            "New list is [2, 3, 1, 3, 2, 1, 'hello']\n"
          ]
        }
      ]
    },
    {
      "cell_type": "markdown",
      "source": [
        "#11. Write a Python program to Count occurrences of an element in a list?"
      ],
      "metadata": {
        "id": "Fb_WTdXjwT5g"
      }
    },
    {
      "cell_type": "code",
      "source": [
        "li=[]\n",
        "n=int(input(\"Enter size of list \"))\n",
        "for i in range(0,n):\n",
        "    e=int(input(\"Enter element of list \"))\n",
        "    li.append(e)\n",
        "print(\"Original list: \",li)\n",
        "\n",
        "n=int(input(\"Enter element to be checked list: \"))\n",
        "\n",
        "print(n,\" has occurred \",li.count(n),\"times\")"
      ],
      "metadata": {
        "colab": {
          "base_uri": "https://localhost:8080/"
        },
        "id": "BS8U4IkOwHUz",
        "outputId": "8b4f2524-df78-4e7e-b50f-d00877b3aa79"
      },
      "execution_count": 98,
      "outputs": [
        {
          "output_type": "stream",
          "name": "stdout",
          "text": [
            "Enter size of list 3\n",
            "Enter element of list 1\n",
            "Enter element of list 2\n",
            "Enter element of list 3\n",
            "Original list:  [1, 2, 3]\n",
            "Enter element to be checked list: 2\n",
            "2  has occurred  1 times\n"
          ]
        }
      ]
    }
  ]
}