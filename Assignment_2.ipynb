{
  "cells": [
    {
      "cell_type": "markdown",
      "id": "9d210efc",
      "metadata": {
        "id": "9d210efc"
      },
      "source": [
        "# 1.What are the two values of the Boolean data type? How do you write them?"
      ]
    },
    {
      "cell_type": "markdown",
      "id": "6f079c8f",
      "metadata": {
        "id": "6f079c8f"
      },
      "source": [
        "### The two values of Boolean data type are true and false. We can write or use in our program as True or False"
      ]
    },
    {
      "cell_type": "markdown",
      "id": "73ca538c",
      "metadata": {
        "id": "73ca538c"
      },
      "source": [
        "# 2.What are the three different types of Boolean operators?"
      ]
    },
    {
      "cell_type": "markdown",
      "id": "632366de",
      "metadata": {
        "id": "632366de"
      },
      "source": [
        "### the types of boolean operator avalivle are and, or, not. These are case sensitive and we have to use them wilthout sepcifying them in inverted comma. "
      ]
    },
    {
      "cell_type": "markdown",
      "source": [
        "# 3. Make a list of each Boolean operator&#39;s truth tables (i.e. every possible combination of Boolean\n",
        "values for the operator and what it evaluate )."
      ],
      "metadata": {
        "id": "tI5FvZxDiBVQ"
      },
      "id": "tI5FvZxDiBVQ"
    },
    {
      "cell_type": "markdown",
      "source": [
        "## And: \n",
        "\n",
        "a        b       result\n",
        "\n",
        "True    True     True\n",
        "True    False    False\n",
        "False   True     False\n",
        "False   False    False\n",
        "\n",
        "\n",
        "## OR : \n",
        "\n",
        "a        b       result\n",
        "\n",
        "True    True     True\n",
        "True    False    True\n",
        "False   True     True\n",
        "False   False    False\n",
        "\n",
        "\n",
        "## Not :\n",
        "\n",
        "a            result\n",
        "\n",
        "True         False\n",
        "False         True"
      ],
      "metadata": {
        "id": "STUYrvAQh-vq"
      },
      "id": "STUYrvAQh-vq"
    },
    {
      "cell_type": "markdown",
      "source": [
        "# 4. What are the values of the following expressions?\n",
        "(5 &gt; 4) and (3 == 5)\n",
        "not (5 &gt; 4)\n",
        "(5 &gt; 4) or (3 == 5)\n",
        "not ((5 &gt; 4) or (3 == 5))\n",
        "(True and True) and (True == False)\n",
        "(not False) or (not True)"
      ],
      "metadata": {
        "id": "_Gu0hmJoiFUJ"
      },
      "id": "_Gu0hmJoiFUJ"
    },
    {
      "cell_type": "markdown",
      "source": [
        "### (5 > 4) and (3 == 5) = False\n",
        "### not (5 > 4) = False\n",
        "### (5 > 4) or (3 == 5) = True\n",
        "### not ((5 > 4) or (3 == 5) = False\n",
        "### (True and True) and (True == False) = False\n",
        "### (not False) or (not True) = True"
      ],
      "metadata": {
        "id": "RFDCCzI1iyyh"
      },
      "id": "RFDCCzI1iyyh"
    },
    {
      "cell_type": "markdown",
      "source": [
        "# 5. What are the six comparison operators?"
      ],
      "metadata": {
        "id": "vkni2rrpjanf"
      },
      "id": "vkni2rrpjanf"
    },
    {
      "cell_type": "code",
      "source": [
        "### The comparison operators are : \n",
        "\n",
        "== \n"
      ],
      "metadata": {
        "id": "iIafOrRjiLkX"
      },
      "id": "iIafOrRjiLkX",
      "execution_count": null,
      "outputs": []
    },
    {
      "cell_type": "markdown",
      "source": [
        "## The comparison operators are : \n",
        "\n",
        "#### == \tEquals\n",
        "#### !=\tNot equals\t\n",
        "#### >\tGreater than\n",
        "#### <\tLess than\t\t\n",
        "#### >=\tGreater than or equal to\n",
        "#### <=  Less than or equal to~\n"
      ],
      "metadata": {
        "id": "COYyPfJmjzmY"
      },
      "id": "COYyPfJmjzmY"
    },
    {
      "cell_type": "markdown",
      "source": [
        "# 6. How do you tell the difference between the equal to and assignment operators?Describe a condition and when you would use one."
      ],
      "metadata": {
        "id": "RlPV9TcDkG-A"
      },
      "id": "RlPV9TcDkG-A"
    },
    {
      "cell_type": "markdown",
      "source": [
        "### The assignment operator '=' is used for assigning values to the variable \n",
        "### Consider the example \n",
        "### a = 5 , x = 10 \n",
        "### This is used for assigning values to a & b as in here.\n",
        "\n",
        "### The == opertor is used for comparing two terms \n",
        "### Example :\n",
        "### if ( 5 == 5) or (5 == 5)\n",
        "### here we are checking whehter a number is equal to a number or in other cases a condition."
      ],
      "metadata": {
        "id": "W6HadWm0z2fB"
      },
      "id": "W6HadWm0z2fB"
    },
    {
      "cell_type": "markdown",
      "source": [
        "# 7. Identify the three blocks in this code:\n",
        "spam = 0\n",
        "if spam == 10:\n",
        "print(&#39;eggs&#39;)\n",
        "if spam &gt; 5:\n",
        "print(&#39;bacon&#39;)\n",
        "else:\n",
        "print(&#39;ham&#39;)\n",
        "print(&#39;spam&#39;)\n",
        "print(&#39;spam&#39;)"
      ],
      "metadata": {
        "id": "XrXhFaFyz2hN"
      },
      "id": "XrXhFaFyz2hN"
    },
    {
      "cell_type": "markdown",
      "source": [],
      "metadata": {
        "id": "aS_krR15z2jt"
      },
      "id": "aS_krR15z2jt"
    },
    {
      "cell_type": "code",
      "source": [
        "spam = 0\n",
        "if spam == 10:\n",
        "  print('eggs')\n",
        "if (spam > 5):\n",
        "  print('bacon')\n",
        "else:\n",
        "  print('ham')\n",
        "  print('spam')\n",
        "  print('spam')"
      ],
      "metadata": {
        "colab": {
          "base_uri": "https://localhost:8080/"
        },
        "id": "hpVunnZc0_5C",
        "outputId": "3ebb27d7-6113-4635-dad8-125723942e45"
      },
      "id": "hpVunnZc0_5C",
      "execution_count": 9,
      "outputs": [
        {
          "output_type": "stream",
          "name": "stdout",
          "text": [
            "ham\n",
            "spam\n",
            "spam\n"
          ]
        }
      ]
    },
    {
      "cell_type": "markdown",
      "source": [
        "# 8. Write code that prints Hello if 1 is stored in spam, prints Howdy if 2 is stored in spam, and prints Greetings! if anything else is stored in spam."
      ],
      "metadata": {
        "id": "Ll8rgS_Xz2mC"
      },
      "id": "Ll8rgS_Xz2mC"
    },
    {
      "cell_type": "code",
      "source": [
        "spam = 2\n",
        "if (spam == 1):\n",
        "  print(\"Hello\")\n",
        "if (spam == 2):\n",
        "  print(\"Howdy\")\n",
        "else:\n",
        "  print(\"Greetings!\")"
      ],
      "metadata": {
        "colab": {
          "base_uri": "https://localhost:8080/"
        },
        "id": "s8S02EF015KN",
        "outputId": "98db2b15-e9a3-49e6-c95b-5d7cf8b3561e"
      },
      "id": "s8S02EF015KN",
      "execution_count": 16,
      "outputs": [
        {
          "output_type": "stream",
          "name": "stdout",
          "text": [
            "Howdy\n"
          ]
        }
      ]
    },
    {
      "cell_type": "markdown",
      "source": [
        "# 9.If your programme is stuck in an endless loop, what keys you’ll press?"
      ],
      "metadata": {
        "id": "joPambD3z2oy"
      },
      "id": "joPambD3z2oy"
    },
    {
      "cell_type": "markdown",
      "source": [
        "### If we want to exit from the infinite loop then in such condition we have to press CTRL +  C"
      ],
      "metadata": {
        "id": "3bzpAG2B2gzX"
      },
      "id": "3bzpAG2B2gzX"
    },
    {
      "cell_type": "markdown",
      "source": [
        "# 10. How can you tell the difference between break and continue?"
      ],
      "metadata": {
        "id": "p6KSsO4-z2rX"
      },
      "id": "p6KSsO4-z2rX"
    },
    {
      "cell_type": "markdown",
      "source": [
        "### The main differnce betewwen both of them is keyword reserved for them\n",
        "### To continue the loop statement we use keyword continue and to stop the loop when certain conditions occurs or met, then we use break statement."
      ],
      "metadata": {
        "id": "9IQlu_jY3fWV"
      },
      "id": "9IQlu_jY3fWV"
    },
    {
      "cell_type": "markdown",
      "source": [
        "# 11. In a for loop,what is the difference between range(10), range(0, 10), and range(0, 10, 1)?"
      ],
      "metadata": {
        "id": "WvAtEdvw3fTt"
      },
      "id": "WvAtEdvw3fTt"
    },
    {
      "cell_type": "markdown",
      "source": [
        "### The range fucntion is divdied into the following parameters\n",
        "### range(start , stop , step )\n",
        "### In all the cases we get same output, but in second case we have spevified the start and stop , without step, while in last case we have even specified the step as 1. Eventually the implicit step is 1"
      ],
      "metadata": {
        "id": "CgAEDl1n4h8F"
      },
      "id": "CgAEDl1n4h8F"
    },
    {
      "cell_type": "markdown",
      "source": [
        "## 12. Write a short program that prints the numbers 1 to 10 using a for loop. Then write an equivalent program that prints the numbers 1 to 10 using a while loop."
      ],
      "metadata": {
        "id": "AWw6vzOe3fQ5"
      },
      "id": "AWw6vzOe3fQ5"
    },
    {
      "cell_type": "code",
      "source": [
        "# Using for loop\n",
        "for i in range(1, 11):\n",
        "  print(i)"
      ],
      "metadata": {
        "colab": {
          "base_uri": "https://localhost:8080/"
        },
        "id": "MZ6ilS-M5cwk",
        "outputId": "bc9b1ab8-3de9-4c2a-fe08-3f3e72ceabd7"
      },
      "id": "MZ6ilS-M5cwk",
      "execution_count": 20,
      "outputs": [
        {
          "output_type": "stream",
          "name": "stdout",
          "text": [
            "1\n",
            "2\n",
            "3\n",
            "4\n",
            "5\n",
            "6\n",
            "7\n",
            "8\n",
            "9\n",
            "10\n"
          ]
        }
      ]
    },
    {
      "cell_type": "code",
      "source": [
        "# Using While loop\n",
        "n = 1\n",
        "while (11 > n ):\n",
        "  print( i)\n",
        "  i = i + 1\n"
      ],
      "metadata": {
        "colab": {
          "base_uri": "https://localhost:8080/"
        },
        "id": "f_nXOqS_5nKz",
        "outputId": "cbab0663-a681-47c0-eadc-3ee0c571fb48"
      },
      "id": "f_nXOqS_5nKz",
      "execution_count": 22,
      "outputs": [
        {
          "output_type": "stream",
          "name": "stdout",
          "text": [
            "10\n"
          ]
        }
      ]
    },
    {
      "cell_type": "markdown",
      "source": [],
      "metadata": {
        "id": "IxXBagkc3fNN"
      },
      "id": "IxXBagkc3fNN"
    },
    {
      "cell_type": "markdown",
      "source": [],
      "metadata": {
        "id": "-35z-Gwm3fJE"
      },
      "id": "-35z-Gwm3fJE"
    },
    {
      "cell_type": "markdown",
      "source": [],
      "metadata": {
        "id": "3s-rxtPj3e_0"
      },
      "id": "3s-rxtPj3e_0"
    },
    {
      "cell_type": "code",
      "source": [],
      "metadata": {
        "id": "cb3FB-zj2xQa"
      },
      "id": "cb3FB-zj2xQa",
      "execution_count": null,
      "outputs": []
    }
  ],
  "metadata": {
    "kernelspec": {
      "display_name": "Python 3 (ipykernel)",
      "language": "python",
      "name": "python3"
    },
    "language_info": {
      "codemirror_mode": {
        "name": "ipython",
        "version": 3
      },
      "file_extension": ".py",
      "mimetype": "text/x-python",
      "name": "python",
      "nbconvert_exporter": "python",
      "pygments_lexer": "ipython3",
      "version": "3.9.12"
    },
    "colab": {
      "provenance": [],
      "collapsed_sections": []
    }
  },
  "nbformat": 4,
  "nbformat_minor": 5
}