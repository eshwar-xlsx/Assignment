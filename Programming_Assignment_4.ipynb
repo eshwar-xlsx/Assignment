{
  "nbformat": 4,
  "nbformat_minor": 0,
  "metadata": {
    "colab": {
      "provenance": [],
      "collapsed_sections": []
    },
    "kernelspec": {
      "name": "python3",
      "display_name": "Python 3"
    },
    "language_info": {
      "name": "python"
    }
  },
  "cells": [
    {
      "cell_type": "markdown",
      "source": [
        "# 1. Write a Python Program to Find the Factorial of a Number?"
      ],
      "metadata": {
        "id": "n-g4frEWBoYH"
      }
    },
    {
      "cell_type": "code",
      "execution_count": 8,
      "metadata": {
        "colab": {
          "base_uri": "https://localhost:8080/"
        },
        "id": "8TtH1aUdBh2N",
        "outputId": "62f86052-cc71-44a3-b20b-788f53eb2ef0"
      },
      "outputs": [
        {
          "output_type": "stream",
          "name": "stdout",
          "text": [
            "Enter a number : 3\n",
            "The factorial is  6\n"
          ]
        }
      ],
      "source": [
        "import math \n",
        "\n",
        "n = int(input(\"Enter a number : \"))\n",
        "print(\"The factorial is \" , math.factorial(n))\n"
      ]
    },
    {
      "cell_type": "markdown",
      "source": [
        "# 2. Write a Python Program to Display the multiplication Table?"
      ],
      "metadata": {
        "id": "2mb06eUtBoam"
      }
    },
    {
      "cell_type": "code",
      "source": [
        "n = int(input(\"Enter a number : \"))\n",
        "\n",
        "for i in range( 1 , 11 ):\n",
        "  print (n, 'x', i, '=', n * i)\n",
        "    "
      ],
      "metadata": {
        "colab": {
          "base_uri": "https://localhost:8080/"
        },
        "id": "J1RfVMtPCzgt",
        "outputId": "445e1afe-5116-486f-9952-a0a6821a4de5"
      },
      "execution_count": 9,
      "outputs": [
        {
          "output_type": "stream",
          "name": "stdout",
          "text": [
            "Enter a number : 5\n",
            "5 x 1 = 5\n",
            "5 x 2 = 10\n",
            "5 x 3 = 15\n",
            "5 x 4 = 20\n",
            "5 x 5 = 25\n",
            "5 x 6 = 30\n",
            "5 x 7 = 35\n",
            "5 x 8 = 40\n",
            "5 x 9 = 45\n",
            "5 x 10 = 50\n"
          ]
        }
      ]
    },
    {
      "cell_type": "markdown",
      "source": [
        "# 3. Write a Python Program to Print the Fibonacci sequence?"
      ],
      "metadata": {
        "id": "q9J_si-VEwvT"
      }
    },
    {
      "cell_type": "code",
      "source": [
        "def fibb(n):\n",
        "    \n",
        "    if n < 0:\n",
        "        print(\"Invalid\")\n",
        "    elif n == 0:\n",
        "        return 0\n",
        "    elif n == 1 or n == 2:\n",
        "        return 1\n",
        "    else:\n",
        "        return fibb(n-1) + fibb(n-2)\n",
        " \n",
        "n = int(input(\"Enter a num : \"))\n",
        "print(fibb(n))"
      ],
      "metadata": {
        "colab": {
          "base_uri": "https://localhost:8080/"
        },
        "id": "dxs3YnWEEVxF",
        "outputId": "7aeaaf35-918d-428e-8b78-bfd740edb60f"
      },
      "execution_count": 19,
      "outputs": [
        {
          "output_type": "stream",
          "name": "stdout",
          "text": [
            "Enter a num : 4\n",
            "3\n"
          ]
        }
      ]
    },
    {
      "cell_type": "markdown",
      "source": [
        "# 4. Write a Python Program to Check Armstrong Number?"
      ],
      "metadata": {
        "id": "EMDVSLFrBodT"
      }
    },
    {
      "cell_type": "code",
      "source": [
        "\n",
        "num = int(input('Enter the number : '))\n",
        "t = num\n",
        "cube_sum = 0\n",
        "\n",
        "while t!= 0:\n",
        "    k = t % 10\n",
        "    cube_sum += k**3\n",
        "    t = t//10\n",
        "if cube_sum == num:\n",
        "  print(num, ' is an Armstrong Number')\n",
        "else:\n",
        "  print(num, 'is not a Armstrong Number')"
      ],
      "metadata": {
        "colab": {
          "base_uri": "https://localhost:8080/"
        },
        "id": "pnDTjYoFGZQb",
        "outputId": "e6ea1153-e6a4-4392-d9c9-bbe2fcb80801"
      },
      "execution_count": 22,
      "outputs": [
        {
          "output_type": "stream",
          "name": "stdout",
          "text": [
            "Enter the three digit number to be checked for Armstrong: 334\n",
            "334 is not a Armstrong Number\n"
          ]
        }
      ]
    },
    {
      "cell_type": "markdown",
      "source": [
        "# 5. Write a Python Program to Find Armstrong Number in an Interval?"
      ],
      "metadata": {
        "id": "lUaBi7W7GoND"
      }
    },
    {
      "cell_type": "code",
      "source": [
        "t1 = int(input('Enter the min number :'))\n",
        "t2 = int(input('Enter the max number:'))\n",
        "n=len(str(t2))\n",
        "print('The Armstrong number range is : ')\n",
        "\n",
        "for j in range(t1, t2+1):\n",
        "    i=j\n",
        "    cube_sum = 0\n",
        "    while i!= 0:\n",
        "        k = i % 10\n",
        "        cube_sum += k**n\n",
        "        i = i//10\n",
        "    if cube_sum == j:\n",
        "        print(j)"
      ],
      "metadata": {
        "colab": {
          "base_uri": "https://localhost:8080/"
        },
        "id": "AwAqALhdGjos",
        "outputId": "00341a65-85c1-4bbb-d09e-17a950793bb8"
      },
      "execution_count": 26,
      "outputs": [
        {
          "output_type": "stream",
          "name": "stdout",
          "text": [
            "Enter the min number :1\n",
            "Enter the max number:300\n",
            "The Armstrong number range is : \n",
            "1\n",
            "153\n"
          ]
        }
      ]
    },
    {
      "cell_type": "markdown",
      "source": [
        "# 6. Write a Python Program to Find the Sum of Natural Numbers?"
      ],
      "metadata": {
        "id": "k0uqFiw-BofO"
      }
    },
    {
      "cell_type": "code",
      "source": [
        "\n",
        "num = 11\n",
        "\n",
        "if num < 0:\n",
        "   print(\"Enter a positive number\")\n",
        "else:\n",
        "   sum = 0\n",
        "   while(num > 0):\n",
        "       sum += num\n",
        "       num -= 1\n",
        "   print(f\"The sum is {sum}\")"
      ],
      "metadata": {
        "colab": {
          "base_uri": "https://localhost:8080/"
        },
        "id": "BXjeVdE-HGL6",
        "outputId": "6b6e1fe2-1c79-4e8b-b071-088140f2acf7"
      },
      "execution_count": 29,
      "outputs": [
        {
          "output_type": "stream",
          "name": "stdout",
          "text": [
            "The sum is 66\n"
          ]
        }
      ]
    },
    {
      "cell_type": "markdown",
      "source": [],
      "metadata": {
        "id": "4rU7acs1Bohe"
      }
    }
  ]
}
